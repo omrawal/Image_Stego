{
 "cells": [
  {
   "cell_type": "code",
   "execution_count": null,
   "metadata": {},
   "outputs": [],
   "source": [
    "# https://medium.com/swlh/lsb-image-steganography-using-python-2bbbee2c69a2 \n",
    "# https://towardsdatascience.com/hiding-data-in-an-image-image-steganography-using-python-e491b68b1372"
   ]
  },
  {
   "cell_type": "code",
   "execution_count": 1,
   "metadata": {},
   "outputs": [],
   "source": [
    "import numpy as np\n",
    "from PIL import Image"
   ]
  },
  {
   "cell_type": "code",
   "execution_count": 2,
   "metadata": {},
   "outputs": [],
   "source": [
    "def Encode(src,password,message, dest):\n",
    "\n",
    "    img = Image.open(src, 'r')\n",
    "    width, height = img.size\n",
    "    array = np.array(list(img.getdata()))\n",
    "\n",
    "    if img.mode == 'RGB':\n",
    "        n = 3\n",
    "        m = 0\n",
    "    elif img.mode == 'RGBA':\n",
    "        n = 4\n",
    "        m = 1\n",
    "\n",
    "    total_pixels = array.size//n\n",
    "    # text will be '#####\"$s4h1\"@@@@@@@@\"$t3g0\"'\n",
    "    # here '####' will be password and '@@@@' will be message\n",
    "\n",
    "    message_delimiter=\"$t3g0\"\n",
    "    passsword_limiter=\"$s4h1\"    \n",
    "\n",
    "    message += message_delimiter\n",
    "    message=password+passsword_limiter+message\n",
    "    b_message = ''.join([format(ord(i), \"08b\") for i in message])\n",
    "    req_pixels = len(b_message)\n",
    "\n",
    "    if req_pixels > total_pixels: # check if image is large enough to store the message and password\n",
    "        print(\"ERROR: Need larger file size\")\n",
    "    else:\n",
    "        index=0\n",
    "        for p in range(total_pixels):\n",
    "            for q in range(m, n):\n",
    "                if index < req_pixels:\n",
    "                    array[p][q] = int(bin(array[p][q])[2:9] + b_message[index], 2)\n",
    "                    index += 1\n",
    "        array=array.reshape(height, width, n)\n",
    "        enc_img = Image.fromarray(array.astype('uint8'), img.mode)\n",
    "        enc_img.save(dest)\n",
    "        print(\"Image Encoded Successfully\")"
   ]
  },
  {
   "cell_type": "code",
   "execution_count": null,
   "metadata": {},
   "outputs": [],
   "source": [
    "\n",
    "    "
   ]
  }
 ],
 "metadata": {
  "kernelspec": {
   "display_name": "Python 3",
   "language": "python",
   "name": "python3"
  },
  "language_info": {
   "codemirror_mode": {
    "name": "ipython",
    "version": 3
   },
   "file_extension": ".py",
   "mimetype": "text/x-python",
   "name": "python",
   "nbconvert_exporter": "python",
   "pygments_lexer": "ipython3",
   "version": "3.7.6"
  }
 },
 "nbformat": 4,
 "nbformat_minor": 4
}
